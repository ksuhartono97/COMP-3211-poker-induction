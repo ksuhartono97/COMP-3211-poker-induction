{
 "cells": [
  {
   "cell_type": "code",
   "execution_count": 7,
   "metadata": {},
   "outputs": [
    {
     "name": "stdout",
     "output_type": "stream",
     "text": [
      "       S1  C1  S2  C2  S3  C3  S4  C4  S5  C5  hand\n",
      "0       4   9   2   1   2   2   4   7   2   8     0\n",
      "1       1   4   3   6   1  12   3  11   2   7     0\n",
      "2       1  11   4   1   3   7   4  11   2   1     2\n",
      "3       2   9   2   4   3   6   1   9   4   9     3\n",
      "4       1   8   2   4   2  11   2   2   2   1     0\n",
      "5       2   5   1   5   2  13   2   3   3  13     2\n",
      "6       3  10   4   6   1   4   2  13   4   5     0\n",
      "7       4  10   3   1   2  13   4   2   4   7     0\n",
      "8       3   2   4  10   3   3   4   4   1   9     0\n",
      "9       2   7   3   8   4   8   2  13   2  12     1\n",
      "10      2   5   1   3   2  10   3   2   2   1     0\n",
      "11      1   6   2  12   4   7   2  10   1   1     0\n",
      "12      4   2   4   9   1  12   3   7   2  11     0\n",
      "13      2   6   1   5   3   3   4   2   4   5     1\n",
      "14      1   6   3  12   4  11   2  11   3  13     1\n",
      "15      2   5   2   4   4   9   2   3   3   2     0\n",
      "16      4   9   4  11   3   8   3   9   3   5     1\n",
      "17      1   9   2   4   1  11   3   4   1  13     1\n",
      "18      1  11   3  13   4   8   4   1   3   6     0\n",
      "19      2   6   1  12   3   8   4   1   4   6     1\n",
      "20      2   9   3   7   1  13   2  13   1   2     1\n",
      "21      4   4   2  13   3   6   2   7   3   3     0\n",
      "22      3   6   1   4   3   1   2   5   4   9     0\n",
      "23      1   4   4   3   2  11   4  13   1  10     0\n",
      "24      3   9   2   7   2   4   2   1   1  10     0\n",
      "25      2   4   4   2   1   4   4   1   3  11     1\n",
      "26      2   8   1   4   3  11   1   8   1   2     1\n",
      "27      3   8   1  12   4   1   4  10   1   3     0\n",
      "28      2  12   1   5   1   2   1  10   2   8     0\n",
      "29      2   4   4   7   4   2   4  11   2   2     1\n",
      "...    ..  ..  ..  ..  ..  ..  ..  ..  ..  ..   ...\n",
      "24980   2   5   4  13   1   3   4   8   3   9     0\n",
      "24981   3   7   4  11   3   1   1  13   4   3     0\n",
      "24982   4  10   2   3   1   8   3  11   2   7     0\n",
      "24983   1   5   2   6   3  10   4  10   3   3     1\n",
      "24984   4  10   2   5   4   6   2  10   3  12     1\n",
      "24985   2   6   2   7   4   2   3   6   3   9     1\n",
      "24986   1   7   2   4   2   1   1   1   2  11     1\n",
      "24987   3   8   4  10   3   2   4   6   1  11     0\n",
      "24988   2   8   4   8   1   3   3   8   1   5     3\n",
      "24989   1   1   1   7   3   9   4   9   1   5     1\n",
      "24990   4   2   3   7   1  13   2  12   2   9     0\n",
      "24991   1   7   3  10   3  13   1  13   4  10     2\n",
      "24992   1  10   4   5   1   6   3   7   2   5     1\n",
      "24993   3   4   3   3   4  10   2   1   4   6     0\n",
      "24994   4   1   3   2   2  11   2   6   2   3     0\n",
      "24995   3   3   4   5   3   4   4   4   1   3     2\n",
      "24996   3   7   1  13   1   2   1   9   2  11     0\n",
      "24997   2  13   1   5   4   5   4   8   3   3     1\n",
      "24998   3   2   4  10   2   6   1  12   3  10     1\n",
      "24999   1   8   4   2   3   1   1   5   1  10     0\n",
      "25000   4   4   1  10   3  11   2   2   3   8     0\n",
      "25001   2  12   4   9   4  10   3  13   3   9     1\n",
      "25002   1  12   2  13   4   2   1   8   2  10     0\n",
      "25003   2   3   1   9   1   1   3   8   3   7     0\n",
      "25004   3   4   2   8   4   8   1   9   2  11     1\n",
      "25005   4   9   4   6   3   6   4  12   4   5     1\n",
      "25006   3   8   3   5   4  11   2   2   1  13     0\n",
      "25007   1   8   4   5   3  11   3   2   2  13     0\n",
      "25008   4  12   3   5   2   1   2   7   4   6     0\n",
      "25009   1   1   1   3   1   7   1   2   4   2     1\n",
      "\n",
      "[25010 rows x 11 columns]\n"
     ]
    }
   ],
   "source": [
    "import numpy as np\n",
    "import pandas as pd\n",
    "df_train = pd.read_csv('train.csv')\n",
    "df_train_oracle = pd.read_csv('train_oracle.csv')\n",
    "df_train_oracle = df_train_oracle.drop(['id'], axis = 1)"
   ]
  },
  {
   "cell_type": "code",
   "execution_count": 11,
   "metadata": {},
   "outputs": [],
   "source": [
    "df = df_train.append(df_train_oracle)"
   ]
  },
  {
   "cell_type": "code",
   "execution_count": 12,
   "metadata": {},
   "outputs": [
    {
     "name": "stdout",
     "output_type": "stream",
     "text": [
      "         C1    C2    C3    C4    C5   S1   S2   S3   S4   S5  Unnamed: 0  hand\n",
      "0       9.0   1.0   2.0   7.0   8.0  4.0  2.0  2.0  4.0  2.0         NaN     0\n",
      "1       4.0   6.0  12.0  11.0   7.0  1.0  3.0  1.0  3.0  2.0         NaN     0\n",
      "2      11.0   1.0   7.0  11.0   1.0  1.0  4.0  3.0  4.0  2.0         NaN     2\n",
      "3       9.0   4.0   6.0   9.0   9.0  2.0  2.0  3.0  1.0  4.0         NaN     3\n",
      "4       8.0   4.0  11.0   2.0   1.0  1.0  2.0  2.0  2.0  2.0         NaN     0\n",
      "5       5.0   5.0  13.0   3.0  13.0  2.0  1.0  2.0  2.0  3.0         NaN     2\n",
      "6      10.0   6.0   4.0  13.0   5.0  3.0  4.0  1.0  2.0  4.0         NaN     0\n",
      "7      10.0   1.0  13.0   2.0   7.0  4.0  3.0  2.0  4.0  4.0         NaN     0\n",
      "8       2.0  10.0   3.0   4.0   9.0  3.0  4.0  3.0  4.0  1.0         NaN     0\n",
      "9       7.0   8.0   8.0  13.0  12.0  2.0  3.0  4.0  2.0  2.0         NaN     1\n",
      "10      5.0   3.0  10.0   2.0   1.0  2.0  1.0  2.0  3.0  2.0         NaN     0\n",
      "11      6.0  12.0   7.0  10.0   1.0  1.0  2.0  4.0  2.0  1.0         NaN     0\n",
      "12      2.0   9.0  12.0   7.0  11.0  4.0  4.0  1.0  3.0  2.0         NaN     0\n",
      "13      6.0   5.0   3.0   2.0   5.0  2.0  1.0  3.0  4.0  4.0         NaN     1\n",
      "14      6.0  12.0  11.0  11.0  13.0  1.0  3.0  4.0  2.0  3.0         NaN     1\n",
      "15      5.0   4.0   9.0   3.0   2.0  2.0  2.0  4.0  2.0  3.0         NaN     0\n",
      "16      9.0  11.0   8.0   9.0   5.0  4.0  4.0  3.0  3.0  3.0         NaN     1\n",
      "17      9.0   4.0  11.0   4.0  13.0  1.0  2.0  1.0  3.0  1.0         NaN     1\n",
      "18     11.0  13.0   8.0   1.0   6.0  1.0  3.0  4.0  4.0  3.0         NaN     0\n",
      "19      6.0  12.0   8.0   1.0   6.0  2.0  1.0  3.0  4.0  4.0         NaN     1\n",
      "20      9.0   7.0  13.0  13.0   2.0  2.0  3.0  1.0  2.0  1.0         NaN     1\n",
      "21      4.0  13.0   6.0   7.0   3.0  4.0  2.0  3.0  2.0  3.0         NaN     0\n",
      "22      6.0   4.0   1.0   5.0   9.0  3.0  1.0  3.0  2.0  4.0         NaN     0\n",
      "23      4.0   3.0  11.0  13.0  10.0  1.0  4.0  2.0  4.0  1.0         NaN     0\n",
      "24      9.0   7.0   4.0   1.0  10.0  3.0  2.0  2.0  2.0  1.0         NaN     0\n",
      "25      4.0   2.0   4.0   1.0  11.0  2.0  4.0  1.0  4.0  3.0         NaN     1\n",
      "26      8.0   4.0  11.0   8.0   2.0  2.0  1.0  3.0  1.0  1.0         NaN     1\n",
      "27      8.0  12.0   1.0  10.0   3.0  3.0  1.0  4.0  4.0  1.0         NaN     0\n",
      "28     12.0   5.0   2.0  10.0   8.0  2.0  1.0  1.0  1.0  2.0         NaN     0\n",
      "29      4.0   7.0   2.0  11.0   2.0  2.0  4.0  4.0  4.0  2.0         NaN     1\n",
      "...     ...   ...   ...   ...   ...  ...  ...  ...  ...  ...         ...   ...\n",
      "24980   NaN   NaN   NaN   NaN   NaN  NaN  NaN  NaN  NaN  NaN     24981.0     0\n",
      "24981   NaN   NaN   NaN   NaN   NaN  NaN  NaN  NaN  NaN  NaN     24982.0     0\n",
      "24982   NaN   NaN   NaN   NaN   NaN  NaN  NaN  NaN  NaN  NaN     24983.0     0\n",
      "24983   NaN   NaN   NaN   NaN   NaN  NaN  NaN  NaN  NaN  NaN     24984.0     1\n",
      "24984   NaN   NaN   NaN   NaN   NaN  NaN  NaN  NaN  NaN  NaN     24985.0     1\n",
      "24985   NaN   NaN   NaN   NaN   NaN  NaN  NaN  NaN  NaN  NaN     24986.0     1\n",
      "24986   NaN   NaN   NaN   NaN   NaN  NaN  NaN  NaN  NaN  NaN     24987.0     3\n",
      "24987   NaN   NaN   NaN   NaN   NaN  NaN  NaN  NaN  NaN  NaN     24988.0     0\n",
      "24988   NaN   NaN   NaN   NaN   NaN  NaN  NaN  NaN  NaN  NaN     24989.0     6\n",
      "24989   NaN   NaN   NaN   NaN   NaN  NaN  NaN  NaN  NaN  NaN     24990.0     5\n",
      "24990   NaN   NaN   NaN   NaN   NaN  NaN  NaN  NaN  NaN  NaN     24991.0     0\n",
      "24991   NaN   NaN   NaN   NaN   NaN  NaN  NaN  NaN  NaN  NaN     24992.0     2\n",
      "24992   NaN   NaN   NaN   NaN   NaN  NaN  NaN  NaN  NaN  NaN     24993.0     1\n",
      "24993   NaN   NaN   NaN   NaN   NaN  NaN  NaN  NaN  NaN  NaN     24994.0     0\n",
      "24994   NaN   NaN   NaN   NaN   NaN  NaN  NaN  NaN  NaN  NaN     24995.0     0\n",
      "24995   NaN   NaN   NaN   NaN   NaN  NaN  NaN  NaN  NaN  NaN     24996.0     2\n",
      "24996   NaN   NaN   NaN   NaN   NaN  NaN  NaN  NaN  NaN  NaN     24997.0     0\n",
      "24997   NaN   NaN   NaN   NaN   NaN  NaN  NaN  NaN  NaN  NaN     24998.0     1\n",
      "24998   NaN   NaN   NaN   NaN   NaN  NaN  NaN  NaN  NaN  NaN     24999.0     1\n",
      "24999   NaN   NaN   NaN   NaN   NaN  NaN  NaN  NaN  NaN  NaN     25000.0     0\n",
      "25000   NaN   NaN   NaN   NaN   NaN  NaN  NaN  NaN  NaN  NaN     25001.0     0\n",
      "25001   NaN   NaN   NaN   NaN   NaN  NaN  NaN  NaN  NaN  NaN     25002.0     1\n",
      "25002   NaN   NaN   NaN   NaN   NaN  NaN  NaN  NaN  NaN  NaN     25003.0     0\n",
      "25003   NaN   NaN   NaN   NaN   NaN  NaN  NaN  NaN  NaN  NaN     25004.0     0\n",
      "25004   NaN   NaN   NaN   NaN   NaN  NaN  NaN  NaN  NaN  NaN     25005.0     1\n",
      "25005   NaN   NaN   NaN   NaN   NaN  NaN  NaN  NaN  NaN  NaN     25006.0     5\n",
      "25006   NaN   NaN   NaN   NaN   NaN  NaN  NaN  NaN  NaN  NaN     25007.0     0\n",
      "25007   NaN   NaN   NaN   NaN   NaN  NaN  NaN  NaN  NaN  NaN     25008.0     0\n",
      "25008   NaN   NaN   NaN   NaN   NaN  NaN  NaN  NaN  NaN  NaN     25009.0     0\n",
      "25009   NaN   NaN   NaN   NaN   NaN  NaN  NaN  NaN  NaN  NaN     25010.0     2\n",
      "\n",
      "[50020 rows x 12 columns]\n"
     ]
    }
   ],
   "source": [
    "print(df)"
   ]
  },
  {
   "cell_type": "code",
   "execution_count": null,
   "metadata": {
    "collapsed": true
   },
   "outputs": [],
   "source": []
  },
  {
   "cell_type": "code",
   "execution_count": null,
   "metadata": {
    "collapsed": true
   },
   "outputs": [],
   "source": []
  }
 ],
 "metadata": {
  "kernelspec": {
   "display_name": "Python 2",
   "language": "python",
   "name": "python2"
  },
  "language_info": {
   "codemirror_mode": {
    "name": "ipython",
    "version": 2
   },
   "file_extension": ".py",
   "mimetype": "text/x-python",
   "name": "python",
   "nbconvert_exporter": "python",
   "pygments_lexer": "ipython2",
   "version": "2.7.13"
  }
 },
 "nbformat": 4,
 "nbformat_minor": 2
}
