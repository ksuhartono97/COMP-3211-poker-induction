{
 "cells": [
  {
   "cell_type": "code",
   "execution_count": 2,
   "metadata": {},
   "outputs": [],
   "source": [
    "import numpy as np\n",
    "import pandas as pd\n",
    "import sklearn.metrics as metrics\n",
    "from sklearn.model_selection import train_test_split\n",
    "from sklearn.ensemble import RandomForestClassifier\n",
    "from sklearn.model_selection import cross_val_predict\n",
    "from sklearn.model_selection import KFold\n",
    "from sklearn.metrics import recall_score\n",
    "from sklearn.feature_selection import RFE\n",
    "import matplotlib.pyplot as plt\n",
    "%matplotlib inline"
   ]
  },
  {
   "cell_type": "code",
   "execution_count": 3,
   "metadata": {},
   "outputs": [],
   "source": [
    "trainSet  = pd.read_csv('train.csv')\n",
    "trainingEncoded = pd.get_dummies(trainSet)\n",
    "x = trainingEncoded.drop(['hand'], axis=1)\n",
    "y = trainingEncoded['hand']\n",
    "xTrain, xVal, yTrain, yVal = train_test_split(x, \n",
    "                                              y,\n",
    "                                              test_size=.1,\n",
    "                                              random_state=12)"
   ]
  },
  {
   "cell_type": "code",
   "execution_count": 4,
   "metadata": {},
   "outputs": [
    {
     "name": "stdout",
     "output_type": "stream",
     "text": [
      "0    11273\n",
      "1     9511\n",
      "2     1080\n",
      "3      458\n",
      "4       87\n",
      "5       48\n",
      "6       36\n",
      "7        6\n",
      "9        5\n",
      "8        5\n",
      "Name: hand, dtype: int64\n"
     ]
    }
   ],
   "source": [
    "pdTraining = pd.DataFrame(data=yTrain, columns=['hand'])\n",
    "print pdTraining.hand.value_counts()"
   ]
  },
  {
   "cell_type": "code",
   "execution_count": 5,
   "metadata": {},
   "outputs": [
    {
     "name": "stdout",
     "output_type": "stream",
     "text": [
      "0    1220\n",
      "1    1088\n",
      "2     126\n",
      "3      55\n",
      "5       6\n",
      "4       6\n",
      "Name: hand, dtype: int64\n"
     ]
    }
   ],
   "source": [
    "pdTest = pd.DataFrame(data=yVal, columns=['hand'])\n",
    "print pdTest.hand.value_counts()"
   ]
  },
  {
   "cell_type": "code",
   "execution_count": 6,
   "metadata": {},
   "outputs": [
    {
     "data": {
      "text/plain": [
       "RandomForestClassifier(bootstrap=True, class_weight=None, criterion='gini',\n",
       "            max_depth=None, max_features='auto', max_leaf_nodes=None,\n",
       "            min_impurity_decrease=0.0, min_impurity_split=None,\n",
       "            min_samples_leaf=1, min_samples_split=2,\n",
       "            min_weight_fraction_leaf=0.0, n_estimators=30, n_jobs=1,\n",
       "            oob_score=False, random_state=12, verbose=0, warm_start=False)"
      ]
     },
     "execution_count": 6,
     "metadata": {},
     "output_type": "execute_result"
    }
   ],
   "source": [
    "rf = RandomForestClassifier(n_estimators=30, random_state=12)\n",
    "rf.fit(xTrain, yTrain)"
   ]
  },
  {
   "cell_type": "code",
   "execution_count": 7,
   "metadata": {
    "scrolled": true
   },
   "outputs": [
    {
     "name": "stdout",
     "output_type": "stream",
     "text": [
      "0    1489\n",
      "1    1010\n",
      "2       2\n",
      "Name: hand, dtype: int64\n"
     ]
    }
   ],
   "source": [
    "predicted = cross_val_predict(rf, xVal, yVal, cv=5)\n",
    "\n",
    "pdPredicted = pd.DataFrame(data=predicted, columns=['hand'])\n",
    "print pdPredicted.hand.value_counts()"
   ]
  },
  {
   "cell_type": "code",
   "execution_count": 8,
   "metadata": {},
   "outputs": [
    {
     "name": "stdout",
     "output_type": "stream",
     "text": [
      "             precision    recall  f1-score   support\n",
      "\n",
      "          0       0.53      0.65      0.59      1220\n",
      "          1       0.48      0.45      0.46      1088\n",
      "          2       0.00      0.00      0.00       126\n",
      "          3       0.00      0.00      0.00        55\n",
      "          4       0.00      0.00      0.00         6\n",
      "          5       0.00      0.00      0.00         6\n",
      "\n",
      "avg / total       0.47      0.51      0.49      2501\n",
      "\n"
     ]
    },
    {
     "name": "stderr",
     "output_type": "stream",
     "text": [
      "/Users/kristiansuhartono/python-env/lib/python2.7/site-packages/sklearn/metrics/classification.py:1135: UndefinedMetricWarning: Precision and F-score are ill-defined and being set to 0.0 in labels with no predicted samples.\n",
      "  'precision', 'predicted', average, warn_for)\n"
     ]
    }
   ],
   "source": [
    "print metrics.classification_report(yVal, predicted) "
   ]
  },
  {
   "cell_type": "code",
   "execution_count": 35,
   "metadata": {},
   "outputs": [],
   "source": [
    "model = RandomForestClassifier(n_estimators=30, random_state=12)"
   ]
  },
  {
   "cell_type": "code",
   "execution_count": 36,
   "metadata": {},
   "outputs": [
    {
     "name": "stdout",
     "output_type": "stream",
     "text": [
      "0    2170\n",
      "1     331\n",
      "Name: hand, dtype: int64\n",
      "             precision    recall  f1-score   support\n",
      "\n",
      "          0       0.51      0.91      0.66      1220\n",
      "          1       0.56      0.17      0.26      1088\n",
      "          2       0.00      0.00      0.00       126\n",
      "          3       0.00      0.00      0.00        55\n",
      "          4       0.00      0.00      0.00         6\n",
      "          5       0.00      0.00      0.00         6\n",
      "\n",
      "avg / total       0.49      0.52      0.43      2501\n",
      "\n"
     ]
    }
   ],
   "source": [
    "rfe = RFE(model, 2)\n",
    "rfe = rfe.fit(xTrain, yTrain)\n",
    "# print rfe.support_\n",
    "# print rfe.ranking_\n",
    "rfePredicted = rfe.predict(xVal)\n",
    "\n",
    "pdRfePredicted = pd.DataFrame(data=rfePredicted, columns=['hand'])\n",
    "print pdRfePredicted.hand.value_counts()\n",
    "\n",
    "print metrics.classification_report(yVal, pdRfePredicted)"
   ]
  },
  {
   "cell_type": "code",
   "execution_count": 37,
   "metadata": {},
   "outputs": [
    {
     "name": "stdout",
     "output_type": "stream",
     "text": [
      "0    1628\n",
      "1     846\n",
      "2      22\n",
      "3       5\n",
      "Name: hand, dtype: int64\n",
      "             precision    recall  f1-score   support\n",
      "\n",
      "          0       0.60      0.80      0.68      1220\n",
      "          1       0.56      0.44      0.49      1088\n",
      "          2       0.14      0.02      0.04       126\n",
      "          3       1.00      0.09      0.17        55\n",
      "          4       0.00      0.00      0.00         6\n",
      "          5       0.00      0.00      0.00         6\n",
      "\n",
      "avg / total       0.56      0.58      0.55      2501\n",
      "\n"
     ]
    }
   ],
   "source": [
    "rfe = RFE(model, 3)\n",
    "rfe = rfe.fit(xTrain, yTrain)\n",
    "# print rfe.support_\n",
    "# print rfe.ranking_\n",
    "rfePredicted = rfe.predict(xVal)\n",
    "\n",
    "pdRfePredicted = pd.DataFrame(data=rfePredicted, columns=['hand'])\n",
    "print pdRfePredicted.hand.value_counts()\n",
    "\n",
    "print metrics.classification_report(yVal, pdRfePredicted)"
   ]
  },
  {
   "cell_type": "code",
   "execution_count": 38,
   "metadata": {},
   "outputs": [
    {
     "name": "stdout",
     "output_type": "stream",
     "text": [
      "0    1357\n",
      "1    1047\n",
      "2      64\n",
      "3      25\n",
      "4       5\n",
      "5       2\n",
      "6       1\n",
      "Name: hand, dtype: int64\n",
      "             precision    recall  f1-score   support\n",
      "\n",
      "          0       0.69      0.77      0.73      1220\n",
      "          1       0.60      0.58      0.59      1088\n",
      "          2       0.27      0.13      0.18       126\n",
      "          3       0.44      0.20      0.28        55\n",
      "          4       0.00      0.00      0.00         6\n",
      "          5       0.00      0.00      0.00         6\n",
      "          6       0.00      0.00      0.00         0\n",
      "\n",
      "avg / total       0.62      0.64      0.63      2501\n",
      "\n"
     ]
    }
   ],
   "source": [
    "rfe = RFE(model, 4)\n",
    "rfe = rfe.fit(xTrain, yTrain)\n",
    "# print rfe.support_\n",
    "# print rfe.ranking_\n",
    "rfePredicted = rfe.predict(xVal)\n",
    "\n",
    "pdRfePredicted = pd.DataFrame(data=rfePredicted, columns=['hand'])\n",
    "print pdRfePredicted.hand.value_counts()\n",
    "\n",
    "print metrics.classification_report(yVal, pdRfePredicted)"
   ]
  },
  {
   "cell_type": "code",
   "execution_count": 39,
   "metadata": {},
   "outputs": [
    {
     "name": "stdout",
     "output_type": "stream",
     "text": [
      "0    1450\n",
      "1    1008\n",
      "2      33\n",
      "3       7\n",
      "4       3\n",
      "Name: hand, dtype: int64\n",
      "             precision    recall  f1-score   support\n",
      "\n",
      "          0       0.70      0.83      0.76      1220\n",
      "          1       0.65      0.61      0.63      1088\n",
      "          2       0.45      0.12      0.19       126\n",
      "          3       0.71      0.09      0.16        55\n",
      "          4       0.00      0.00      0.00         6\n",
      "          5       0.00      0.00      0.00         6\n",
      "\n",
      "avg / total       0.66      0.68      0.66      2501\n",
      "\n"
     ]
    }
   ],
   "source": [
    "rfe = RFE(model, 5)\n",
    "rfe = rfe.fit(xTrain, yTrain)\n",
    "# print rfe.support_\n",
    "# print rfe.ranking_\n",
    "rfePredicted = rfe.predict(xVal)\n",
    "\n",
    "pdRfePredicted = pd.DataFrame(data=rfePredicted, columns=['hand'])\n",
    "print pdRfePredicted.hand.value_counts()\n",
    "\n",
    "print metrics.classification_report(yVal, pdRfePredicted)"
   ]
  },
  {
   "cell_type": "code",
   "execution_count": 40,
   "metadata": {},
   "outputs": [
    {
     "name": "stdout",
     "output_type": "stream",
     "text": [
      "0    1441\n",
      "1    1038\n",
      "2      18\n",
      "3       3\n",
      "4       1\n",
      "Name: hand, dtype: int64\n",
      "             precision    recall  f1-score   support\n",
      "\n",
      "          0       0.68      0.80      0.73      1220\n",
      "          1       0.62      0.59      0.60      1088\n",
      "          2       0.44      0.06      0.11       126\n",
      "          3       1.00      0.05      0.10        55\n",
      "          4       0.00      0.00      0.00         6\n",
      "          5       0.00      0.00      0.00         6\n",
      "\n",
      "avg / total       0.64      0.65      0.63      2501\n",
      "\n"
     ]
    }
   ],
   "source": [
    "rfe = RFE(model, 6)\n",
    "rfe = rfe.fit(xTrain, yTrain)\n",
    "# print rfe.support_\n",
    "# print rfe.ranking_\n",
    "rfePredicted = rfe.predict(xVal)\n",
    "\n",
    "pdRfePredicted = pd.DataFrame(data=rfePredicted, columns=['hand'])\n",
    "print pdRfePredicted.hand.value_counts()\n",
    "\n",
    "print metrics.classification_report(yVal, pdRfePredicted)"
   ]
  },
  {
   "cell_type": "code",
   "execution_count": 41,
   "metadata": {},
   "outputs": [
    {
     "name": "stdout",
     "output_type": "stream",
     "text": [
      "0    1475\n",
      "1    1018\n",
      "2       6\n",
      "3       2\n",
      "Name: hand, dtype: int64\n",
      "             precision    recall  f1-score   support\n",
      "\n",
      "          0       0.65      0.78      0.71      1220\n",
      "          1       0.59      0.55      0.57      1088\n",
      "          2       0.50      0.02      0.05       126\n",
      "          3       1.00      0.04      0.07        55\n",
      "          4       0.00      0.00      0.00         6\n",
      "          5       0.00      0.00      0.00         6\n",
      "\n",
      "avg / total       0.62      0.62      0.60      2501\n",
      "\n"
     ]
    }
   ],
   "source": [
    "rfe = RFE(model, 7)\n",
    "rfe = rfe.fit(xTrain, yTrain)\n",
    "# print rfe.support_\n",
    "# print rfe.ranking_\n",
    "rfePredicted = rfe.predict(xVal)\n",
    "\n",
    "pdRfePredicted = pd.DataFrame(data=rfePredicted, columns=['hand'])\n",
    "print pdRfePredicted.hand.value_counts()\n",
    "\n",
    "print metrics.classification_report(yVal, pdRfePredicted)"
   ]
  },
  {
   "cell_type": "code",
   "execution_count": 42,
   "metadata": {},
   "outputs": [
    {
     "name": "stdout",
     "output_type": "stream",
     "text": [
      "0    1539\n",
      "1     958\n",
      "3       2\n",
      "2       2\n",
      "Name: hand, dtype: int64\n",
      "             precision    recall  f1-score   support\n",
      "\n",
      "          0       0.60      0.75      0.67      1220\n",
      "          1       0.54      0.48      0.51      1088\n",
      "          2       0.50      0.01      0.02       126\n",
      "          3       0.50      0.02      0.04        55\n",
      "          4       0.00      0.00      0.00         6\n",
      "          5       0.00      0.00      0.00         6\n",
      "\n",
      "avg / total       0.56      0.57      0.55      2501\n",
      "\n"
     ]
    }
   ],
   "source": [
    "rfe = RFE(model, 8)\n",
    "rfe = rfe.fit(xTrain, yTrain)\n",
    "# print rfe.support_\n",
    "# print rfe.ranking_\n",
    "rfePredicted = rfe.predict(xVal)\n",
    "\n",
    "pdRfePredicted = pd.DataFrame(data=rfePredicted, columns=['hand'])\n",
    "print pdRfePredicted.hand.value_counts()\n",
    "\n",
    "print metrics.classification_report(yVal, pdRfePredicted)"
   ]
  },
  {
   "cell_type": "code",
   "execution_count": 43,
   "metadata": {},
   "outputs": [
    {
     "name": "stdout",
     "output_type": "stream",
     "text": [
      "0    1534\n",
      "1     962\n",
      "2       4\n",
      "3       1\n",
      "Name: hand, dtype: int64\n",
      "             precision    recall  f1-score   support\n",
      "\n",
      "          0       0.62      0.78      0.69      1220\n",
      "          1       0.57      0.50      0.53      1088\n",
      "          2       0.50      0.02      0.03       126\n",
      "          3       1.00      0.02      0.04        55\n",
      "          4       0.00      0.00      0.00         6\n",
      "          5       0.00      0.00      0.00         6\n",
      "\n",
      "avg / total       0.60      0.60      0.57      2501\n",
      "\n"
     ]
    }
   ],
   "source": [
    "rfe = RFE(model, 9)\n",
    "rfe = rfe.fit(xTrain, yTrain)\n",
    "# print rfe.support_\n",
    "# print rfe.ranking_\n",
    "rfePredicted = rfe.predict(xVal)\n",
    "\n",
    "pdRfePredicted = pd.DataFrame(data=rfePredicted, columns=['hand'])\n",
    "print pdRfePredicted.hand.value_counts()\n",
    "\n",
    "print metrics.classification_report(yVal, pdRfePredicted)"
   ]
  },
  {
   "cell_type": "code",
   "execution_count": 44,
   "metadata": {},
   "outputs": [
    {
     "name": "stdout",
     "output_type": "stream",
     "text": [
      "0    1544\n",
      "1     951\n",
      "2       5\n",
      "3       1\n",
      "Name: hand, dtype: int64\n",
      "             precision    recall  f1-score   support\n",
      "\n",
      "          0       0.60      0.75      0.67      1220\n",
      "          1       0.55      0.48      0.52      1088\n",
      "          2       0.60      0.02      0.05       126\n",
      "          3       1.00      0.02      0.04        55\n",
      "          4       0.00      0.00      0.00         6\n",
      "          5       0.00      0.00      0.00         6\n",
      "\n",
      "avg / total       0.58      0.58      0.55      2501\n",
      "\n"
     ]
    }
   ],
   "source": [
    "rfe = RFE(model, 10)\n",
    "rfe = rfe.fit(xTrain, yTrain)\n",
    "# print rfe.support_\n",
    "# print rfe.ranking_\n",
    "rfePredicted = rfe.predict(xVal)\n",
    "\n",
    "pdRfePredicted = pd.DataFrame(data=rfePredicted, columns=['hand'])\n",
    "print pdRfePredicted.hand.value_counts()\n",
    "\n",
    "print metrics.classification_report(yVal, pdRfePredicted)"
   ]
  },
  {
   "cell_type": "code",
   "execution_count": null,
   "metadata": {},
   "outputs": [],
   "source": []
  }
 ],
 "metadata": {
  "kernelspec": {
   "display_name": "Python 2",
   "language": "python",
   "name": "python2"
  },
  "language_info": {
   "codemirror_mode": {
    "name": "ipython",
    "version": 2
   },
   "file_extension": ".py",
   "mimetype": "text/x-python",
   "name": "python",
   "nbconvert_exporter": "python",
   "pygments_lexer": "ipython2",
   "version": "2.7.10"
  }
 },
 "nbformat": 4,
 "nbformat_minor": 2
}
