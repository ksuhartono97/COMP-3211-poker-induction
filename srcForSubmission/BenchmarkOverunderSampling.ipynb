{
 "cells": [
  {
   "cell_type": "code",
   "execution_count": 11,
   "metadata": {},
   "outputs": [],
   "source": [
    "import numpy as np\n",
    "import pandas as pd\n",
    "import sklearn.metrics as metrics\n",
    "from sklearn.model_selection import train_test_split\n",
    "from sklearn.ensemble import RandomForestClassifier\n",
    "from sklearn.metrics import recall_score\n",
    "from sklearn.feature_selection import RFE\n",
    "from sklearn.pipeline import Pipeline\n",
    "from imblearn.combine import SMOTETomek\n",
    "from imblearn.over_sampling import SMOTE\n",
    "from sklearn.metrics import confusion_matrix\n",
    "from sklearn.svm import SVC"
   ]
  },
  {
   "cell_type": "code",
   "execution_count": 12,
   "metadata": {},
   "outputs": [],
   "source": [
    "#Importing the training dataset\n",
    "trainSet  = pd.read_csv('train.csv')\n",
    "#Encoding the dataset (as per standards)\n",
    "trainingEncoded = pd.get_dummies(trainSet)\n",
    "x = trainingEncoded.drop(['hand'], axis=1)\n",
    "y = trainingEncoded['hand']\n",
    "#Splitting the datasets to independent training and test splits for later use (randomly)\n",
    "xTrain, xVal, yTrain, yVal = train_test_split(x, \n",
    "                                              y,\n",
    "                                              test_size=.1,\n",
    "                                              random_state=12)"
   ]
  },
  {
   "cell_type": "code",
   "execution_count": 13,
   "metadata": {},
   "outputs": [],
   "source": [
    "# Trying out SMOTE and Tomek Chains for over and under sampling of data\n",
    "# smt = SMOTETomek(random_state=42, smote=SMOTE(random_state=12, ratio='all', k_neighbors=4))\n",
    "smt = SMOTE(random_state=12, ratio='all', k_neighbors=4)\n",
    "xTrain, yTrain = smt.fit_sample(xTrain, yTrain)"
   ]
  },
  {
   "cell_type": "code",
   "execution_count": 14,
   "metadata": {},
   "outputs": [],
   "source": [
    "#Generate the model for RFE\n",
    "model = RandomForestClassifier(n_estimators= 140, max_features= 'auto',random_state= 22337, criterion= 'gini')"
   ]
  },
  {
   "cell_type": "code",
   "execution_count": 15,
   "metadata": {},
   "outputs": [
    {
     "data": {
      "text/plain": [
       "Pipeline(memory=None,\n",
       "     steps=[('feature_selection', RFE(estimator=RandomForestClassifier(bootstrap=True, class_weight=None, criterion='gini',\n",
       "            max_depth=None, max_features='auto', max_leaf_nodes=None,\n",
       "            min_impurity_decrease=0.0, min_impurity_split=None,\n",
       "            min_samples_leaf=1, min_samples_spl..._jobs=1,\n",
       "            oob_score=False, random_state=22337, verbose=0,\n",
       "            warm_start=False))])"
      ]
     },
     "execution_count": 15,
     "metadata": {},
     "output_type": "execute_result"
    }
   ],
   "source": [
    "#Create our classifier\n",
    "clf = Pipeline([\n",
    "    ('feature_selection', RFE(model, 5)),\n",
    "    ('classification', RandomForestClassifier(n_estimators= 140, max_features= 'auto',random_state= 22337, criterion= 'gini'))\n",
    "])\n",
    "#Fit the dataset to the classifier\n",
    "clf.fit(xTrain, yTrain)"
   ]
  },
  {
   "cell_type": "code",
   "execution_count": 16,
   "metadata": {},
   "outputs": [
    {
     "name": "stdout",
     "output_type": "stream",
     "text": [
      "0    1369\n",
      "1    1033\n",
      "2      60\n",
      "3      25\n",
      "4       7\n",
      "6       4\n",
      "5       3\n",
      "Name: hand, dtype: int64\n",
      "             precision    recall  f1-score   support\n",
      "\n",
      "          0       0.73      0.82      0.78      1220\n",
      "          1       0.67      0.63      0.65      1088\n",
      "          2       0.35      0.17      0.23       126\n",
      "          3       0.44      0.20      0.28        55\n",
      "          4       0.14      0.17      0.15         6\n",
      "          5       0.00      0.00      0.00         6\n",
      "          6       0.00      0.00      0.00         0\n",
      "\n",
      "avg / total       0.68      0.69      0.68      2501\n",
      "\n"
     ]
    },
    {
     "name": "stderr",
     "output_type": "stream",
     "text": [
      "/Users/kristiansuhartono/python-env/lib/python2.7/site-packages/sklearn/metrics/classification.py:1137: UndefinedMetricWarning: Recall and F-score are ill-defined and being set to 0.0 in labels with no true samples.\n",
      "  'recall', 'true', average, warn_for)\n"
     ]
    }
   ],
   "source": [
    "#Doing the prediction (testing split)\n",
    "smotePred = clf.predict(xVal)\n",
    "\n",
    "#Labelling the result\n",
    "pdSmotePred= pd.DataFrame(data=smotePred, columns=['hand'])\n",
    "\n",
    "#Printing test metrics\n",
    "print pdSmotePred.hand.value_counts()\n",
    "print metrics.classification_report(yVal, pdSmotePred)"
   ]
  },
  {
   "cell_type": "code",
   "execution_count": 18,
   "metadata": {},
   "outputs": [],
   "source": [
    "# Trying out SMOTE and Tomek Chains for over and under sampling of data\n",
    "smtTmk = SMOTETomek(random_state=42, smote=SMOTE(random_state=12, ratio='all', k_neighbors=4))\n",
    "# smt = SMOTE(random_state=12, ratio='all', k_neighbors=4)\n",
    "xTrain, yTrain = smtTmk.fit_sample(xTrain, yTrain)"
   ]
  },
  {
   "cell_type": "code",
   "execution_count": 19,
   "metadata": {},
   "outputs": [
    {
     "data": {
      "text/plain": [
       "Pipeline(memory=None,\n",
       "     steps=[('feature_selection', RFE(estimator=RandomForestClassifier(bootstrap=True, class_weight=None, criterion='gini',\n",
       "            max_depth=None, max_features='auto', max_leaf_nodes=None,\n",
       "            min_impurity_decrease=0.0, min_impurity_split=None,\n",
       "            min_samples_leaf=1, min_samples_spl..._jobs=1,\n",
       "            oob_score=False, random_state=22337, verbose=0,\n",
       "            warm_start=False))])"
      ]
     },
     "execution_count": 19,
     "metadata": {},
     "output_type": "execute_result"
    }
   ],
   "source": [
    "#Create our classifier\n",
    "clf2 = Pipeline([\n",
    "    ('feature_selection', RFE(model, 5)),\n",
    "    ('classification', RandomForestClassifier(n_estimators= 140, max_features= 'auto',random_state= 22337, criterion= 'gini'))\n",
    "])\n",
    "#Fit the dataset to the classifier\n",
    "clf2.fit(xTrain, yTrain)"
   ]
  },
  {
   "cell_type": "code",
   "execution_count": 20,
   "metadata": {},
   "outputs": [
    {
     "name": "stdout",
     "output_type": "stream",
     "text": [
      "0    1399\n",
      "1     987\n",
      "2      70\n",
      "3      28\n",
      "4      10\n",
      "5       3\n",
      "6       3\n",
      "7       1\n",
      "Name: hand, dtype: int64\n",
      "             precision    recall  f1-score   support\n",
      "\n",
      "          0       0.72      0.82      0.76      1220\n",
      "          1       0.66      0.60      0.63      1088\n",
      "          2       0.33      0.18      0.23       126\n",
      "          3       0.46      0.24      0.31        55\n",
      "          4       0.20      0.33      0.25         6\n",
      "          5       0.00      0.00      0.00         6\n",
      "          6       0.00      0.00      0.00         0\n",
      "          7       0.00      0.00      0.00         0\n",
      "\n",
      "avg / total       0.66      0.68      0.66      2501\n",
      "\n"
     ]
    }
   ],
   "source": [
    "#Doing the prediction (testing split)\n",
    "smtTmkPred = clf2.predict(xVal)\n",
    "\n",
    "#Labelling the result\n",
    "pdSmtTmkPred= pd.DataFrame(data=smtTmkPred, columns=['hand'])\n",
    "\n",
    "#Printing test metrics\n",
    "print pdSmtTmkPred.hand.value_counts()\n",
    "print metrics.classification_report(yVal, pdSmtTmkPred)"
   ]
  },
  {
   "cell_type": "code",
   "execution_count": null,
   "metadata": {},
   "outputs": [],
   "source": []
  }
 ],
 "metadata": {
  "kernelspec": {
   "display_name": "Python 2",
   "language": "python",
   "name": "python2"
  },
  "language_info": {
   "codemirror_mode": {
    "name": "ipython",
    "version": 2
   },
   "file_extension": ".py",
   "mimetype": "text/x-python",
   "name": "python",
   "nbconvert_exporter": "python",
   "pygments_lexer": "ipython2",
   "version": "2.7.10"
  }
 },
 "nbformat": 4,
 "nbformat_minor": 2
}
