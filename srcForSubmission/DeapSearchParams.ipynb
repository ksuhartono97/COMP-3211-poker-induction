{
 "cells": [
  {
   "cell_type": "code",
   "execution_count": 1,
   "metadata": {},
   "outputs": [],
   "source": [
    "import sklearn.datasets\n",
    "import numpy as np\n",
    "import random\n",
    "import pandas as pd\n",
    "import sklearn.metrics as metrics\n",
    "from sklearn.ensemble import RandomForestClassifier\n",
    "from sklearn.model_selection import StratifiedKFold\n",
    "from sklearn.ensemble import ExtraTreesClassifier"
   ]
  },
  {
   "cell_type": "code",
   "execution_count": 2,
   "metadata": {},
   "outputs": [],
   "source": [
    "# Open the training dataset\n",
    "trainSet  = pd.read_csv('train.csv')\n",
    "trainingEncoded = pd.get_dummies(trainSet)\n",
    "x = trainingEncoded.drop(['hand'], axis=1)\n",
    "y = trainingEncoded['hand']"
   ]
  },
  {
   "cell_type": "code",
   "execution_count": 3,
   "metadata": {},
   "outputs": [],
   "source": [
    "# Construct the parameters that we want\n",
    "paramgrid = {\"n_estimators\": [5,10,15,20,25,30,35,40,45,50,55,60,65,70,75,80,85,90,95,100,105,110,115,120,125,130,135,140],\n",
    "             \"criterion\":[\"gini\",\"entropy\"],\n",
    "             \"max_features\":[\"auto\",\"sqrt\",\"log2\"],\n",
    "             \"random_state\":np.arange(1,100000),\n",
    "            }\n",
    "             \n",
    "random.seed(12)"
   ]
  },
  {
   "cell_type": "code",
   "execution_count": 7,
   "metadata": {},
   "outputs": [
    {
     "name": "stdout",
     "output_type": "stream",
     "text": [
      "Types [1, 1, 1, 1] and maxint [27, 2, 99998, 1] detected\n",
      "--- Evolve in 16799832 possible combinations ---\n",
      "gen\tnevals\tavg     \tmin     \tmax     \tstd      \n",
      "0  \t100   \t0.596262\t0.556138\t0.611715\t0.0131124\n",
      "1  \t64    \t0.605929\t0.585046\t0.611715\t0.00466115\n",
      "2  \t46    \t0.609284\t0.603399\t0.612635\t0.00188955\n",
      "3  \t62    \t0.610229\t0.561695\t0.612635\t0.00503755\n",
      "4  \t65    \t0.611318\t0.597321\t0.612635\t0.00194621\n",
      "5  \t58    \t0.612246\t0.60028 \t0.612635\t0.00127308\n",
      "6  \t60    \t0.612335\t0.597161\t0.612635\t0.00181638\n",
      "7  \t57    \t0.611788\t0.561695\t0.612635\t0.00564084\n",
      "8  \t62    \t0.610844\t0.52491 \t0.612635\t0.0120719 \n",
      "9  \t67    \t0.612348\t0.603918\t0.612635\t0.00132459\n",
      "Best individual is: {'n_estimators': 140, 'max_features': 'auto', 'random_state': 22337, 'criterion': 'gini'}\n",
      "with fitness: 0.612634946022\n"
     ]
    }
   ],
   "source": [
    "# Run the evolutionary search (this part takes a really long time)\n",
    "from evolutionary_search import EvolutionaryAlgorithmSearchCV\n",
    "cv = EvolutionaryAlgorithmSearchCV(estimator=RandomForestClassifier(),\n",
    "                                   params=paramgrid,\n",
    "                                   scoring=\"accuracy\",\n",
    "                                   cv=StratifiedKFold(n_splits=5),\n",
    "                                   verbose=1,\n",
    "                                   population_size=100,\n",
    "                                   gene_mutation_prob=0.1,\n",
    "                                   gene_crossover_prob=0.5,\n",
    "                                   tournament_size=4,\n",
    "                                   generations_number=9,\n",
    "                                   n_jobs=-1)\n",
    "cv.fit(x, y)"
   ]
  },
  {
   "cell_type": "code",
   "execution_count": null,
   "metadata": {},
   "outputs": [],
   "source": []
  }
 ],
 "metadata": {
  "kernelspec": {
   "display_name": "Python 2",
   "language": "python",
   "name": "python2"
  },
  "language_info": {
   "codemirror_mode": {
    "name": "ipython",
    "version": 2
   },
   "file_extension": ".py",
   "mimetype": "text/x-python",
   "name": "python",
   "nbconvert_exporter": "python",
   "pygments_lexer": "ipython2",
   "version": "2.7.10"
  }
 },
 "nbformat": 4,
 "nbformat_minor": 2
}
