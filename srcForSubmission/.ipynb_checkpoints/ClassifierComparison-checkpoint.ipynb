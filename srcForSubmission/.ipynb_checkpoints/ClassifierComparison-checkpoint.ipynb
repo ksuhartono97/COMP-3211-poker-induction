{
 "cells": [
  {
   "cell_type": "code",
   "execution_count": 59,
   "metadata": {},
   "outputs": [],
   "source": [
    "import numpy as np\n",
    "import pandas as pd\n",
    "import sklearn.metrics as metrics\n",
    "from sklearn.model_selection import train_test_split\n",
    "from sklearn.ensemble import RandomForestClassifier\n",
    "from sklearn.neural_network import MLPClassifier\n",
    "from sklearn.ensemble import AdaBoostClassifier\n",
    "from sklearn.ensemble import BaggingClassifier\n",
    "from sklearn.ensemble import ExtraTreesClassifier\n",
    "from sklearn.ensemble import GradientBoostingClassifier\n",
    "from sklearn.svm import SVC"
   ]
  },
  {
   "cell_type": "code",
   "execution_count": 2,
   "metadata": {},
   "outputs": [],
   "source": [
    "trainSet  = pd.read_csv('train.csv')\n",
    "trainingEncoded = pd.get_dummies(trainSet)\n",
    "x = trainingEncoded.drop(['hand'], axis=1)\n",
    "y = trainingEncoded['hand']\n",
    "\n",
    "xTrain, xVal, yTrain, yVal = train_test_split(x, \n",
    "                                              y,\n",
    "                                              test_size=.1,\n",
    "                                              random_state=12)"
   ]
  },
  {
   "cell_type": "code",
   "execution_count": 3,
   "metadata": {},
   "outputs": [
    {
     "name": "stdout",
     "output_type": "stream",
     "text": [
      "0    1220\n",
      "1    1088\n",
      "2     126\n",
      "3      55\n",
      "5       6\n",
      "4       6\n",
      "Name: hand, dtype: int64\n"
     ]
    }
   ],
   "source": [
    "testY = pd.DataFrame(data=yVal, columns=['hand'])\n",
    "print testY.hand.value_counts()"
   ]
  },
  {
   "cell_type": "code",
   "execution_count": 39,
   "metadata": {},
   "outputs": [
    {
     "data": {
      "text/plain": [
       "RandomForestClassifier(bootstrap=True, class_weight=None, criterion='gini',\n",
       "            max_depth=None, max_features='auto', max_leaf_nodes=None,\n",
       "            min_impurity_decrease=0.0, min_impurity_split=None,\n",
       "            min_samples_leaf=1, min_samples_split=2,\n",
       "            min_weight_fraction_leaf=0.0, n_estimators=10, n_jobs=1,\n",
       "            oob_score=False, random_state=12, verbose=0, warm_start=False)"
      ]
     },
     "execution_count": 39,
     "metadata": {},
     "output_type": "execute_result"
    }
   ],
   "source": [
    "clfRf = RandomForestClassifier(n_estimators=10, random_state=12)\n",
    "clfRf.fit(xTrain, yTrain)"
   ]
  },
  {
   "cell_type": "code",
   "execution_count": 40,
   "metadata": {},
   "outputs": [],
   "source": [
    "rfPredicted = clfRf.predict(xVal)"
   ]
  },
  {
   "cell_type": "code",
   "execution_count": 41,
   "metadata": {},
   "outputs": [
    {
     "name": "stdout",
     "output_type": "stream",
     "text": [
      "             precision    recall  f1-score   support\n",
      "\n",
      "          0       0.57      0.72      0.64      1220\n",
      "          1       0.52      0.45      0.48      1088\n",
      "          2       0.55      0.05      0.09       126\n",
      "          3       1.00      0.05      0.10        55\n",
      "          4       0.00      0.00      0.00         6\n",
      "          5       0.00      0.00      0.00         6\n",
      "\n",
      "avg / total       0.55      0.55      0.53      2501\n",
      "\n"
     ]
    }
   ],
   "source": [
    "print metrics.classification_report(yVal, rfPredicted)"
   ]
  },
  {
   "cell_type": "code",
   "execution_count": 12,
   "metadata": {},
   "outputs": [
    {
     "data": {
      "text/plain": [
       "MLPClassifier(activation='relu', alpha=1e-05, batch_size='auto', beta_1=0.9,\n",
       "       beta_2=0.999, early_stopping=False, epsilon=1e-08,\n",
       "       hidden_layer_sizes=(5, 2), learning_rate='constant',\n",
       "       learning_rate_init=0.001, max_iter=2000, momentum=0.9,\n",
       "       nesterovs_momentum=True, power_t=0.5, random_state=1, shuffle=True,\n",
       "       solver='adam', tol=0.0001, validation_fraction=0.1, verbose=False,\n",
       "       warm_start=False)"
      ]
     },
     "execution_count": 12,
     "metadata": {},
     "output_type": "execute_result"
    }
   ],
   "source": [
    "mlpClf = MLPClassifier(solver='adam', alpha=1e-5, hidden_layer_sizes=(5, 2), random_state=1, max_iter=2000)\n",
    "mlpClf.fit(xTrain, yTrain)"
   ]
  },
  {
   "cell_type": "code",
   "execution_count": 14,
   "metadata": {},
   "outputs": [],
   "source": [
    "mlpPredicted = mlpClf.predict(xVal)"
   ]
  },
  {
   "cell_type": "code",
   "execution_count": 15,
   "metadata": {},
   "outputs": [
    {
     "name": "stdout",
     "output_type": "stream",
     "text": [
      "             precision    recall  f1-score   support\n",
      "\n",
      "          0       0.53      0.96      0.68      1220\n",
      "          1       0.60      0.17      0.26      1088\n",
      "          2       0.00      0.00      0.00       126\n",
      "          3       0.00      0.00      0.00        55\n",
      "          4       0.00      0.00      0.00         6\n",
      "          5       0.00      0.00      0.00         6\n",
      "\n",
      "avg / total       0.52      0.54      0.45      2501\n",
      "\n"
     ]
    }
   ],
   "source": [
    "print metrics.classification_report(yVal, mlpPredicted)"
   ]
  },
  {
   "cell_type": "code",
   "execution_count": 25,
   "metadata": {},
   "outputs": [
    {
     "data": {
      "text/plain": [
       "SVC(C=1.0, cache_size=200, class_weight=None, coef0=0.0,\n",
       "  decision_function_shape='ovr', degree=3, gamma='auto', kernel='rbf',\n",
       "  max_iter=-1, probability=False, random_state=None, shrinking=True,\n",
       "  tol=0.001, verbose=False)"
      ]
     },
     "execution_count": 25,
     "metadata": {},
     "output_type": "execute_result"
    }
   ],
   "source": [
    "svcClf = SVC()\n",
    "svcClf.fit(xTrain,yTrain)"
   ]
  },
  {
   "cell_type": "code",
   "execution_count": 26,
   "metadata": {},
   "outputs": [],
   "source": [
    "svcPredicted = svcClf.predict(xVal)"
   ]
  },
  {
   "cell_type": "code",
   "execution_count": 28,
   "metadata": {
    "scrolled": true
   },
   "outputs": [
    {
     "name": "stdout",
     "output_type": "stream",
     "text": [
      "             precision    recall  f1-score   support\n",
      "\n",
      "          0       0.60      0.72      0.65      1220\n",
      "          1       0.54      0.51      0.52      1088\n",
      "          2       1.00      0.02      0.03       126\n",
      "          3       0.00      0.00      0.00        55\n",
      "          4       0.00      0.00      0.00         6\n",
      "          5       0.00      0.00      0.00         6\n",
      "\n",
      "avg / total       0.58      0.57      0.55      2501\n",
      "\n"
     ]
    }
   ],
   "source": [
    "print metrics.classification_report(yVal, svcPredicted)"
   ]
  },
  {
   "cell_type": "code",
   "execution_count": 32,
   "metadata": {},
   "outputs": [
    {
     "data": {
      "text/plain": [
       "AdaBoostClassifier(algorithm='SAMME.R', base_estimator=None,\n",
       "          learning_rate=1.0, n_estimators=50, random_state=None)"
      ]
     },
     "execution_count": 32,
     "metadata": {},
     "output_type": "execute_result"
    }
   ],
   "source": [
    "abClf = AdaBoostClassifier()\n",
    "abClf.fit(xTrain, yTrain)"
   ]
  },
  {
   "cell_type": "code",
   "execution_count": 33,
   "metadata": {},
   "outputs": [],
   "source": [
    "abPredicted = abClf.predict(xVal)"
   ]
  },
  {
   "cell_type": "code",
   "execution_count": 35,
   "metadata": {},
   "outputs": [
    {
     "name": "stdout",
     "output_type": "stream",
     "text": [
      "             precision    recall  f1-score   support\n",
      "\n",
      "          0       0.49      0.98      0.65      1220\n",
      "          1       0.00      0.00      0.00      1088\n",
      "          2       0.00      0.00      0.00       126\n",
      "          3       0.00      0.00      0.00        55\n",
      "          4       0.00      0.00      0.00         6\n",
      "          5       0.00      0.00      0.00         6\n",
      "          9       0.00      0.00      0.00         0\n",
      "\n",
      "avg / total       0.24      0.48      0.32      2501\n",
      "\n"
     ]
    },
    {
     "name": "stderr",
     "output_type": "stream",
     "text": [
      "/Users/kristiansuhartono/python-env/lib/python2.7/site-packages/sklearn/metrics/classification.py:1137: UndefinedMetricWarning: Recall and F-score are ill-defined and being set to 0.0 in labels with no true samples.\n",
      "  'recall', 'true', average, warn_for)\n"
     ]
    }
   ],
   "source": [
    "print metrics.classification_report(yVal, abPredicted)"
   ]
  },
  {
   "cell_type": "code",
   "execution_count": 43,
   "metadata": {},
   "outputs": [
    {
     "data": {
      "text/plain": [
       "BaggingClassifier(base_estimator=None, bootstrap=True,\n",
       "         bootstrap_features=False, max_features=1.0, max_samples=1.0,\n",
       "         n_estimators=10, n_jobs=1, oob_score=False, random_state=None,\n",
       "         verbose=0, warm_start=False)"
      ]
     },
     "execution_count": 43,
     "metadata": {},
     "output_type": "execute_result"
    }
   ],
   "source": [
    "bgClf = BaggingClassifier()\n",
    "bgClf.fit(xTrain, yTrain)"
   ]
  },
  {
   "cell_type": "code",
   "execution_count": 44,
   "metadata": {},
   "outputs": [],
   "source": [
    "bgPredicted = bgClf.predict(xVal)"
   ]
  },
  {
   "cell_type": "code",
   "execution_count": 45,
   "metadata": {},
   "outputs": [
    {
     "name": "stdout",
     "output_type": "stream",
     "text": [
      "             precision    recall  f1-score   support\n",
      "\n",
      "          0       0.60      0.75      0.66      1220\n",
      "          1       0.54      0.48      0.51      1088\n",
      "          2       0.25      0.02      0.04       126\n",
      "          3       0.50      0.02      0.04        55\n",
      "          4       0.00      0.00      0.00         6\n",
      "          5       0.00      0.00      0.00         6\n",
      "\n",
      "avg / total       0.55      0.57      0.55      2501\n",
      "\n"
     ]
    }
   ],
   "source": [
    "print metrics.classification_report(yVal, bgPredicted)"
   ]
  },
  {
   "cell_type": "code",
   "execution_count": 47,
   "metadata": {},
   "outputs": [
    {
     "data": {
      "text/plain": [
       "ExtraTreesClassifier(bootstrap=False, class_weight=None, criterion='gini',\n",
       "           max_depth=None, max_features='auto', max_leaf_nodes=None,\n",
       "           min_impurity_decrease=0.0, min_impurity_split=None,\n",
       "           min_samples_leaf=1, min_samples_split=2,\n",
       "           min_weight_fraction_leaf=0.0, n_estimators=10, n_jobs=1,\n",
       "           oob_score=False, random_state=None, verbose=0, warm_start=False)"
      ]
     },
     "execution_count": 47,
     "metadata": {},
     "output_type": "execute_result"
    }
   ],
   "source": [
    "etClf = ExtraTreesClassifier()\n",
    "etClf.fit(xTrain, yTrain)"
   ]
  },
  {
   "cell_type": "code",
   "execution_count": 48,
   "metadata": {},
   "outputs": [],
   "source": [
    "etPredicted = etClf.predict(xVal)"
   ]
  },
  {
   "cell_type": "code",
   "execution_count": 49,
   "metadata": {},
   "outputs": [
    {
     "name": "stdout",
     "output_type": "stream",
     "text": [
      "             precision    recall  f1-score   support\n",
      "\n",
      "          0       0.56      0.72      0.63      1220\n",
      "          1       0.52      0.44      0.47      1088\n",
      "          2       0.12      0.01      0.01       126\n",
      "          3       0.50      0.02      0.04        55\n",
      "          4       0.00      0.00      0.00         6\n",
      "          5       1.00      0.17      0.29         6\n",
      "\n",
      "avg / total       0.52      0.54      0.52      2501\n",
      "\n"
     ]
    }
   ],
   "source": [
    "print metrics.classification_report(yVal, etPredicted)"
   ]
  },
  {
   "cell_type": "code",
   "execution_count": 58,
   "metadata": {},
   "outputs": [
    {
     "data": {
      "text/plain": [
       "GradientBoostingClassifier(criterion='friedman_mse', init=None,\n",
       "              learning_rate=0.1, loss='deviance', max_depth=3,\n",
       "              max_features=None, max_leaf_nodes=None,\n",
       "              min_impurity_decrease=0.0, min_impurity_split=None,\n",
       "              min_samples_leaf=1, min_samples_split=2,\n",
       "              min_weight_fraction_leaf=0.0, n_estimators=100,\n",
       "              presort='auto', random_state=None, subsample=1.0, verbose=0,\n",
       "              warm_start=False)"
      ]
     },
     "execution_count": 58,
     "metadata": {},
     "output_type": "execute_result"
    }
   ],
   "source": [
    "gbcClf = GradientBoostingClassifier()\n",
    "gbcClf.fit(xTrain, yTrain)"
   ]
  },
  {
   "cell_type": "code",
   "execution_count": 60,
   "metadata": {},
   "outputs": [],
   "source": [
    "gbcPredicted = gbcClf.predict(xVal)"
   ]
  },
  {
   "cell_type": "code",
   "execution_count": 62,
   "metadata": {},
   "outputs": [
    {
     "name": "stdout",
     "output_type": "stream",
     "text": [
      "             precision    recall  f1-score   support\n",
      "\n",
      "          0       0.61      0.84      0.71      1220\n",
      "          1       0.59      0.45      0.51      1088\n",
      "          2       0.00      0.00      0.00       126\n",
      "          3       0.67      0.04      0.07        55\n",
      "          4       0.00      0.00      0.00         6\n",
      "          5       0.00      0.00      0.00         6\n",
      "\n",
      "avg / total       0.57      0.60      0.57      2501\n",
      "\n"
     ]
    }
   ],
   "source": [
    "print metrics.classification_report(yVal, gbcPredicted)"
   ]
  },
  {
   "cell_type": "code",
   "execution_count": null,
   "metadata": {},
   "outputs": [],
   "source": []
  }
 ],
 "metadata": {
  "kernelspec": {
   "display_name": "Python 2",
   "language": "python",
   "name": "python2"
  },
  "language_info": {
   "codemirror_mode": {
    "name": "ipython",
    "version": 2
   },
   "file_extension": ".py",
   "mimetype": "text/x-python",
   "name": "python",
   "nbconvert_exporter": "python",
   "pygments_lexer": "ipython2",
   "version": "2.7.10"
  }
 },
 "nbformat": 4,
 "nbformat_minor": 2
}
