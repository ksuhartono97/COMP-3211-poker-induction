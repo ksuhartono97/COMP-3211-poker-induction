{
 "cells": [
  {
   "cell_type": "code",
   "execution_count": 1,
   "metadata": {},
   "outputs": [],
   "source": [
    "import numpy as np\n",
    "import pandas as pd\n",
    "import sklearn.metrics as metrics\n",
    "from sklearn.model_selection import train_test_split\n",
    "from sklearn.ensemble import RandomForestClassifier\n",
    "from sklearn.metrics import recall_score\n",
    "from sklearn.feature_selection import RFE\n",
    "from sklearn.pipeline import Pipeline\n",
    "# from imblearn.combine import SMOTETomek\n",
    "# from imblearn.over_sampling import SMOTE\n",
    "from sklearn.metrics import confusion_matrix\n",
    "from sklearn.svm import SVC"
   ]
  },
  {
   "cell_type": "code",
   "execution_count": 2,
   "metadata": {},
   "outputs": [],
   "source": [
    "#Importing the training dataset\n",
    "trainSet  = pd.read_csv('train.csv')\n",
    "#Encoding the dataset (as per standards)\n",
    "trainingEncoded = pd.get_dummies(trainSet)\n",
    "x = trainingEncoded.drop(['hand'], axis=1)\n",
    "y = trainingEncoded['hand']\n",
    "#Splitting the datasets to independent training and test splits for later use (randomly)\n",
    "xTrain, xVal, yTrain, yVal = train_test_split(x, \n",
    "                                              y,\n",
    "                                              test_size=.1,\n",
    "                                              random_state=12)"
   ]
  },
  {
   "cell_type": "code",
   "execution_count": 3,
   "metadata": {},
   "outputs": [
    {
     "name": "stdout",
     "output_type": "stream",
     "text": [
      "Data distribution for the hand\n",
      "0    12493\n",
      "1    10599\n",
      "2     1206\n",
      "3      513\n",
      "4       93\n",
      "5       54\n",
      "6       36\n",
      "7        6\n",
      "9        5\n",
      "8        5\n",
      "Name: hand, dtype: int64\n"
     ]
    }
   ],
   "source": [
    "#Printing out the hand distribution values\n",
    "pdY = pd.DataFrame(data=y, columns=['hand'])\n",
    "print \"Data distribution for the hand\"\n",
    "print pdY.hand.value_counts()"
   ]
  },
  {
   "cell_type": "code",
   "execution_count": 4,
   "metadata": {},
   "outputs": [],
   "source": [
    "# Trying out SMOTE and Tomek Chains for over and under sampling of data\n",
    "# smt = SMOTETomek(random_state=42, smote=SMOTE(random_state=12, ratio='all', k_neighbors=4))\n",
    "# smt = SMOTE(random_state=12, ratio='all', k_neighbors=4)\n",
    "# x, y = smt.fit_sample(x, y)\n",
    "# Not a lot of improvement"
   ]
  },
  {
   "cell_type": "code",
   "execution_count": 5,
   "metadata": {},
   "outputs": [],
   "source": [
    "# Chi2 reduced the score by a lot too, even with the best k\n",
    "# chi2 = SelectKBest(chi2, k=7)\n",
    "# xTrain = chi2.fit_transform(xTrain, yTrain);\n",
    "# xVal = chi2.transform(xVal);"
   ]
  },
  {
   "cell_type": "code",
   "execution_count": 6,
   "metadata": {},
   "outputs": [],
   "source": [
    "#Generate the model for RFE\n",
    "model = RandomForestClassifier(n_estimators= 140, max_features= 'auto',random_state= 22337, criterion= 'gini')"
   ]
  },
  {
   "cell_type": "code",
   "execution_count": 7,
   "metadata": {},
   "outputs": [
    {
     "data": {
      "text/plain": [
       "Pipeline(memory=None,\n",
       "     steps=[('feature_selection', RFE(estimator=RandomForestClassifier(bootstrap=True, class_weight=None, criterion='gini',\n",
       "            max_depth=None, max_features='auto', max_leaf_nodes=None,\n",
       "            min_impurity_decrease=0.0, min_impurity_split=None,\n",
       "            min_samples_leaf=1, min_samples_spl..._jobs=1,\n",
       "            oob_score=False, random_state=22337, verbose=0,\n",
       "            warm_start=False))])"
      ]
     },
     "execution_count": 7,
     "metadata": {},
     "output_type": "execute_result"
    }
   ],
   "source": [
    "#Create our classifier\n",
    "clf = Pipeline([\n",
    "    ('feature_selection', RFE(model, 5)),\n",
    "    ('classification', RandomForestClassifier(n_estimators= 140, max_features= 'auto',random_state= 22337, criterion= 'gini'))\n",
    "])\n",
    "#Fit the dataset to the classifier\n",
    "clf.fit(xTrain, yTrain)"
   ]
  },
  {
   "cell_type": "code",
   "execution_count": 8,
   "metadata": {},
   "outputs": [
    {
     "name": "stdout",
     "output_type": "stream",
     "text": [
      "0    1408\n",
      "1    1056\n",
      "2      29\n",
      "3       7\n",
      "4       1\n",
      "Name: hand, dtype: int64\n",
      "             precision    recall  f1-score   support\n",
      "\n",
      "          0       0.72      0.83      0.77      1220\n",
      "          1       0.66      0.64      0.65      1088\n",
      "          2       0.52      0.12      0.19       126\n",
      "          3       0.86      0.11      0.19        55\n",
      "          4       1.00      0.17      0.29         6\n",
      "          5       0.00      0.00      0.00         6\n",
      "\n",
      "avg / total       0.68      0.69      0.67      2501\n",
      "\n"
     ]
    },
    {
     "name": "stderr",
     "output_type": "stream",
     "text": [
      "/Users/kristiansuhartono/python-env/lib/python2.7/site-packages/sklearn/metrics/classification.py:1135: UndefinedMetricWarning: Precision and F-score are ill-defined and being set to 0.0 in labels with no predicted samples.\n",
      "  'precision', 'predicted', average, warn_for)\n"
     ]
    }
   ],
   "source": [
    "#Doing the prediction (testing split)\n",
    "pipePredicted = clf.predict(xVal)\n",
    "\n",
    "#Labelling the result\n",
    "pdPipePredicted = pd.DataFrame(data=pipePredicted, columns=['hand'])\n",
    "\n",
    "#Printing test metrics\n",
    "print pdPipePredicted.hand.value_counts()\n",
    "print metrics.classification_report(yVal, pdPipePredicted)"
   ]
  },
  {
   "cell_type": "code",
   "execution_count": 9,
   "metadata": {},
   "outputs": [
    {
     "name": "stdout",
     "output_type": "stream",
     "text": [
      "[[1010  210    0    0    0    0]\n",
      " [ 384  692   11    1    0    0]\n",
      " [   4  107   15    0    0    0]\n",
      " [   3   43    3    6    0    0]\n",
      " [   1    4    0    0    1    0]\n",
      " [   6    0    0    0    0    0]]\n"
     ]
    }
   ],
   "source": [
    "# Printout the confusion matrix\n",
    "print confusion_matrix(yVal, pdPipePredicted)"
   ]
  },
  {
   "cell_type": "code",
   "execution_count": 10,
   "metadata": {},
   "outputs": [],
   "source": [
    "# Here on is submission generation, only run if needed (don't run over this point), if on .py file, may want to comment this part\n",
    "# Open and encode the test dataset\n",
    "testSet  = pd.read_csv('test.csv')\n",
    "testEncoded = pd.get_dummies(testSet)\n",
    "testX = testEncoded.drop(['id'], axis=1)"
   ]
  },
  {
   "cell_type": "code",
   "execution_count": 11,
   "metadata": {},
   "outputs": [
    {
     "data": {
      "text/plain": [
       "Pipeline(memory=None,\n",
       "     steps=[('feature_selection', RFE(estimator=RandomForestClassifier(bootstrap=True, class_weight=None, criterion='gini',\n",
       "            max_depth=None, max_features='auto', max_leaf_nodes=None,\n",
       "            min_impurity_decrease=0.0, min_impurity_split=None,\n",
       "            min_samples_leaf=1, min_samples_spl..._jobs=1,\n",
       "            oob_score=False, random_state=22337, verbose=0,\n",
       "            warm_start=False))])"
      ]
     },
     "execution_count": 11,
     "metadata": {},
     "output_type": "execute_result"
    }
   ],
   "source": [
    "#Refit with whole set\n",
    "clf.fit(x, y)"
   ]
  },
  {
   "cell_type": "code",
   "execution_count": 12,
   "metadata": {},
   "outputs": [],
   "source": [
    "# Predict the result\n",
    "resultDataRF = clf.predict(testX)"
   ]
  },
  {
   "cell_type": "code",
   "execution_count": 13,
   "metadata": {},
   "outputs": [
    {
     "name": "stdout",
     "output_type": "stream",
     "text": [
      "0    570205\n",
      "1    416319\n",
      "2      9856\n",
      "3      2585\n",
      "4       694\n",
      "5       195\n",
      "6        84\n",
      "9        29\n",
      "8        29\n",
      "7         4\n",
      "Name: hand, dtype: int64\n"
     ]
    }
   ],
   "source": [
    "# Construct a csv file for submission to kaggle\n",
    "pdResultDataRF = pd.DataFrame(data=resultDataRF, columns=['hand'])\n",
    "pdResultDataRF.index += 1\n",
    "print pdResultDataRF.hand.value_counts()\n",
    "pdResultDataRF.to_csv(\"submission.csv\", index_label='id', columns=['hand'])"
   ]
  },
  {
   "cell_type": "code",
   "execution_count": null,
   "metadata": {},
   "outputs": [],
   "source": []
  }
 ],
 "metadata": {
  "kernelspec": {
   "display_name": "Python 2",
   "language": "python",
   "name": "python2"
  },
  "language_info": {
   "codemirror_mode": {
    "name": "ipython",
    "version": 2
   },
   "file_extension": ".py",
   "mimetype": "text/x-python",
   "name": "python",
   "nbconvert_exporter": "python",
   "pygments_lexer": "ipython2",
   "version": "2.7.10"
  }
 },
 "nbformat": 4,
 "nbformat_minor": 2
}
