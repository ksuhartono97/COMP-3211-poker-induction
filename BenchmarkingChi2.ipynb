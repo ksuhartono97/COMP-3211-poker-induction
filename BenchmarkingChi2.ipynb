{
 "cells": [
  {
   "cell_type": "code",
   "execution_count": 80,
   "metadata": {},
   "outputs": [],
   "source": [
    "import numpy as np\n",
    "import pandas as pd\n",
    "import sklearn.metrics as metrics\n",
    "from sklearn.model_selection import train_test_split\n",
    "from sklearn.ensemble import RandomForestClassifier\n",
    "import matplotlib.pyplot as plt\n",
    "from sklearn.pipeline import Pipeline\n",
    "%matplotlib inline\n",
    "from imblearn.combine import SMOTETomek\n",
    "from imblearn.over_sampling import SMOTE\n",
    "from sklearn.metrics import confusion_matrix\n",
    "from sklearn.feature_selection import chi2\n",
    "from sklearn.feature_selection import SelectKBest"
   ]
  },
  {
   "cell_type": "code",
   "execution_count": 67,
   "metadata": {},
   "outputs": [],
   "source": [
    "# Generate Training Data\n",
    "trainSet  = pd.read_csv('train.csv')\n",
    "trainingEncoded = pd.get_dummies(trainSet)\n",
    "x = trainingEncoded.drop(['hand'], axis=1)\n",
    "y = trainingEncoded['hand']\n",
    "xTrain, xVal, yTrain, yVal = train_test_split(x, \n",
    "                                              y,\n",
    "                                              test_size=.1,\n",
    "                                              random_state=12)"
   ]
  },
  {
   "cell_type": "code",
   "execution_count": 68,
   "metadata": {},
   "outputs": [
    {
     "name": "stdout",
     "output_type": "stream",
     "text": [
      "0    12493\n",
      "1    10599\n",
      "2     1206\n",
      "3      513\n",
      "4       93\n",
      "5       54\n",
      "6       36\n",
      "7        6\n",
      "9        5\n",
      "8        5\n",
      "Name: hand, dtype: int64\n"
     ]
    }
   ],
   "source": [
    "# Convert to panda data frame for printing contents\n",
    "pdTraining = pd.DataFrame(data=y, columns=['hand'])\n",
    "print pdTraining.hand.value_counts()"
   ]
  },
  {
   "cell_type": "code",
   "execution_count": 69,
   "metadata": {},
   "outputs": [
    {
     "name": "stdout",
     "output_type": "stream",
     "text": [
      "0    1220\n",
      "1    1088\n",
      "2     126\n",
      "3      55\n",
      "5       6\n",
      "4       6\n",
      "Name: hand, dtype: int64\n"
     ]
    }
   ],
   "source": [
    "# Print out the testing set contents\n",
    "pdTest = pd.DataFrame(data=yVal, columns=['hand'])\n",
    "print pdTest.hand.value_counts()"
   ]
  },
  {
   "cell_type": "code",
   "execution_count": 70,
   "metadata": {},
   "outputs": [
    {
     "name": "stdout",
     "output_type": "stream",
     "text": [
      "0    2221\n",
      "1     280\n",
      "Name: hand, dtype: int64\n",
      "             precision    recall  f1-score   support\n",
      "\n",
      "          0       0.52      0.95      0.68      1220\n",
      "          1       0.61      0.16      0.25      1088\n",
      "          2       0.00      0.00      0.00       126\n",
      "          3       0.00      0.00      0.00        55\n",
      "          4       0.00      0.00      0.00         6\n",
      "          5       0.00      0.00      0.00         6\n",
      "\n",
      "avg / total       0.52      0.53      0.44      2501\n",
      "\n"
     ]
    }
   ],
   "source": [
    "chi2 = SelectKBest(chi2, k=2)\n",
    "xChi2Train = chi2.fit_transform(xTrain, yTrain);\n",
    "xChi2Test = chi2.transform(xVal);\n",
    "\n",
    "# Make the classifier\n",
    "model = RandomForestClassifier(n_estimators=30, random_state=12)\n",
    "model.fit(xChi2Train, yTrain)\n",
    "\n",
    "predicted = model.predict(xChi2Test)\n",
    "\n",
    "pdChi2Predicted = pd.DataFrame(data=predicted, columns=['hand'])\n",
    "print pdChi2Predicted.hand.value_counts()\n",
    "\n",
    "print metrics.classification_report(yVal, pdChi2Predicted)\n"
   ]
  },
  {
   "cell_type": "code",
   "execution_count": 73,
   "metadata": {},
   "outputs": [
    {
     "name": "stdout",
     "output_type": "stream",
     "text": [
      "0    1598\n",
      "1     877\n",
      "2      21\n",
      "3       4\n",
      "7       1\n",
      "Name: hand, dtype: int64\n",
      "             precision    recall  f1-score   support\n",
      "\n",
      "          0       0.60      0.79      0.68      1220\n",
      "          1       0.56      0.45      0.50      1088\n",
      "          2       0.19      0.03      0.05       126\n",
      "          3       0.25      0.02      0.03        55\n",
      "          4       0.00      0.00      0.00         6\n",
      "          5       0.00      0.00      0.00         6\n",
      "          7       0.00      0.00      0.00         0\n",
      "\n",
      "avg / total       0.55      0.58      0.55      2501\n",
      "\n"
     ]
    },
    {
     "name": "stderr",
     "output_type": "stream",
     "text": [
      "/Users/kristiansuhartono/python-env/lib/python2.7/site-packages/sklearn/metrics/classification.py:1137: UndefinedMetricWarning: Recall and F-score are ill-defined and being set to 0.0 in labels with no true samples.\n",
      "  'recall', 'true', average, warn_for)\n"
     ]
    }
   ],
   "source": [
    "chi2 = SelectKBest(chi2, k=3)\n",
    "xChi2Train = chi2.fit_transform(xTrain, yTrain);\n",
    "xChi2Test = chi2.transform(xVal);\n",
    "\n",
    "# Make the classifier\n",
    "model = RandomForestClassifier(n_estimators=30, random_state=12)\n",
    "model.fit(xChi2Train, yTrain)\n",
    "\n",
    "predicted = model.predict(xChi2Test)\n",
    "\n",
    "pdChi2Predicted = pd.DataFrame(data=predicted, columns=['hand'])\n",
    "print pdChi2Predicted.hand.value_counts()\n",
    "\n",
    "print metrics.classification_report(yVal, pdChi2Predicted)"
   ]
  },
  {
   "cell_type": "code",
   "execution_count": 75,
   "metadata": {},
   "outputs": [
    {
     "name": "stdout",
     "output_type": "stream",
     "text": [
      "0    1324\n",
      "1    1069\n",
      "2      75\n",
      "3      23\n",
      "4       7\n",
      "5       3\n",
      "Name: hand, dtype: int64\n",
      "             precision    recall  f1-score   support\n",
      "\n",
      "          0       0.70      0.75      0.72      1220\n",
      "          1       0.59      0.58      0.59      1088\n",
      "          2       0.29      0.17      0.22       126\n",
      "          3       0.30      0.13      0.18        55\n",
      "          4       0.00      0.00      0.00         6\n",
      "          5       0.00      0.00      0.00         6\n",
      "\n",
      "avg / total       0.62      0.63      0.62      2501\n",
      "\n"
     ]
    }
   ],
   "source": [
    "chi2 = SelectKBest(chi2, k=4)\n",
    "xChi2Train = chi2.fit_transform(xTrain, yTrain);\n",
    "xChi2Test = chi2.transform(xVal);\n",
    "\n",
    "# Make the classifier\n",
    "model = RandomForestClassifier(n_estimators=30, random_state=12)\n",
    "model.fit(xChi2Train, yTrain)\n",
    "\n",
    "predicted = model.predict(xChi2Test)\n",
    "\n",
    "pdChi2Predicted = pd.DataFrame(data=predicted, columns=['hand'])\n",
    "print pdChi2Predicted.hand.value_counts()\n",
    "\n",
    "print metrics.classification_report(yVal, pdChi2Predicted)"
   ]
  },
  {
   "cell_type": "code",
   "execution_count": 78,
   "metadata": {},
   "outputs": [
    {
     "name": "stdout",
     "output_type": "stream",
     "text": [
      "0    1450\n",
      "1    1008\n",
      "2      33\n",
      "3       7\n",
      "4       3\n",
      "Name: hand, dtype: int64\n",
      "             precision    recall  f1-score   support\n",
      "\n",
      "          0       0.70      0.83      0.76      1220\n",
      "          1       0.65      0.61      0.63      1088\n",
      "          2       0.45      0.12      0.19       126\n",
      "          3       0.71      0.09      0.16        55\n",
      "          4       0.00      0.00      0.00         6\n",
      "          5       0.00      0.00      0.00         6\n",
      "\n",
      "avg / total       0.66      0.68      0.66      2501\n",
      "\n"
     ]
    }
   ],
   "source": [
    "chi2 = SelectKBest(chi2, k=5)\n",
    "xChi2Train = chi2.fit_transform(xTrain, yTrain);\n",
    "xChi2Test = chi2.transform(xVal);\n",
    "\n",
    "# Make the classifier\n",
    "model = RandomForestClassifier(n_estimators=30, random_state=12)\n",
    "model.fit(xChi2Train, yTrain)\n",
    "\n",
    "predicted = model.predict(xChi2Test)\n",
    "\n",
    "pdChi2Predicted = pd.DataFrame(data=predicted, columns=['hand'])\n",
    "print pdChi2Predicted.hand.value_counts()\n",
    "\n",
    "print metrics.classification_report(yVal, pdChi2Predicted)"
   ]
  },
  {
   "cell_type": "code",
   "execution_count": 81,
   "metadata": {},
   "outputs": [
    {
     "name": "stdout",
     "output_type": "stream",
     "text": [
      "0    1496\n",
      "1     989\n",
      "2      14\n",
      "3       2\n",
      "Name: hand, dtype: int64\n",
      "             precision    recall  f1-score   support\n",
      "\n",
      "          0       0.66      0.81      0.73      1220\n",
      "          1       0.61      0.56      0.58      1088\n",
      "          2       0.57      0.06      0.11       126\n",
      "          3       0.50      0.02      0.04        55\n",
      "          4       0.00      0.00      0.00         6\n",
      "          5       0.00      0.00      0.00         6\n",
      "\n",
      "avg / total       0.63      0.64      0.61      2501\n",
      "\n"
     ]
    }
   ],
   "source": [
    "chi2 = SelectKBest(chi2, k=6)\n",
    "xChi2Train = chi2.fit_transform(xTrain, yTrain);\n",
    "xChi2Test = chi2.transform(xVal);\n",
    "\n",
    "# Make the classifier\n",
    "model = RandomForestClassifier(n_estimators=30, random_state=12)\n",
    "model.fit(xChi2Train, yTrain)\n",
    "\n",
    "predicted = model.predict(xChi2Test)\n",
    "\n",
    "pdChi2Predicted = pd.DataFrame(data=predicted, columns=['hand'])\n",
    "print pdChi2Predicted.hand.value_counts()\n",
    "\n",
    "print metrics.classification_report(yVal, pdChi2Predicted)"
   ]
  },
  {
   "cell_type": "code",
   "execution_count": null,
   "metadata": {},
   "outputs": [],
   "source": []
  }
 ],
 "metadata": {
  "kernelspec": {
   "display_name": "Python 2",
   "language": "python",
   "name": "python2"
  },
  "language_info": {
   "codemirror_mode": {
    "name": "ipython",
    "version": 2
   },
   "file_extension": ".py",
   "mimetype": "text/x-python",
   "name": "python",
   "nbconvert_exporter": "python",
   "pygments_lexer": "ipython2",
   "version": "2.7.10"
  }
 },
 "nbformat": 4,
 "nbformat_minor": 2
}
