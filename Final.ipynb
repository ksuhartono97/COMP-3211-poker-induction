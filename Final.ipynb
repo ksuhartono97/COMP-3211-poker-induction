{
 "cells": [
  {
   "cell_type": "code",
   "execution_count": 205,
   "metadata": {},
   "outputs": [],
   "source": [
    "import numpy as np\n",
    "import pandas as pd\n",
    "import sklearn.metrics as metrics\n",
    "from sklearn.model_selection import train_test_split\n",
    "from sklearn.ensemble import RandomForestClassifier\n",
    "from sklearn.metrics import recall_score\n",
    "from sklearn.feature_selection import RFE\n",
    "import matplotlib.pyplot as plt\n",
    "from sklearn.pipeline import Pipeline\n",
    "%matplotlib inline\n",
    "from imblearn.combine import SMOTETomek\n",
    "from imblearn.over_sampling import SMOTE\n",
    "from sklearn.feature_selection import chi2\n",
    "from sklearn.feature_selection import SelectKBest\n",
    "from sklearn.metrics import confusion_matrix"
   ]
  },
  {
   "cell_type": "code",
   "execution_count": 206,
   "metadata": {},
   "outputs": [],
   "source": [
    "trainSet  = pd.read_csv('train.csv')\n",
    "trainingEncoded = pd.get_dummies(trainSet)\n",
    "x = trainingEncoded.drop(['hand'], axis=1)\n",
    "y = trainingEncoded['hand']\n",
    "xTrain, xVal, yTrain, yVal = train_test_split(x, \n",
    "                                              y,\n",
    "                                              test_size=.1,\n",
    "                                              random_state=12)"
   ]
  },
  {
   "cell_type": "code",
   "execution_count": 207,
   "metadata": {},
   "outputs": [],
   "source": [
    "# Trying out SMOTE and Tomek Chains for over and under sampling of data\n",
    "smt = SMOTETomek(random_state=42, smote=SMOTE(random_state=12, ratio='all', k_neighbors=4))\n",
    "xTrain, yTrain = smt.fit_sample(xTrain, yTrain)"
   ]
  },
  {
   "cell_type": "code",
   "execution_count": 208,
   "metadata": {},
   "outputs": [],
   "source": [
    "chi2 = SelectKBest(chi2, k=7)\n",
    "xTrain = chi2.fit_transform(xTrain, yTrain);\n",
    "xVal = chi2.transform(xVal);"
   ]
  },
  {
   "cell_type": "code",
   "execution_count": 209,
   "metadata": {},
   "outputs": [],
   "source": [
    "model = RandomForestClassifier(n_estimators=30, random_state=12)"
   ]
  },
  {
   "cell_type": "code",
   "execution_count": 213,
   "metadata": {},
   "outputs": [
    {
     "data": {
      "text/plain": [
       "Pipeline(memory=None,\n",
       "     steps=[('feature_selection', RFE(estimator=RandomForestClassifier(bootstrap=True, class_weight=None, criterion='gini',\n",
       "            max_depth=None, max_features='auto', max_leaf_nodes=None,\n",
       "            min_impurity_decrease=0.0, min_impurity_split=None,\n",
       "            min_samples_leaf=1, min_samples_spl...n_jobs=1,\n",
       "            oob_score=False, random_state=None, verbose=0,\n",
       "            warm_start=False))])"
      ]
     },
     "execution_count": 213,
     "metadata": {},
     "output_type": "execute_result"
    }
   ],
   "source": [
    "clf = Pipeline([\n",
    "    ('feature_selection', RFE(model, 5)),\n",
    "    ('classification', RandomForestClassifier(n_estimators=30))\n",
    "])\n",
    "clf.fit(xTrain, yTrain)"
   ]
  },
  {
   "cell_type": "code",
   "execution_count": 214,
   "metadata": {},
   "outputs": [
    {
     "name": "stdout",
     "output_type": "stream",
     "text": [
      "0    1423\n",
      "1     962\n",
      "2      72\n",
      "3      31\n",
      "4       5\n",
      "6       4\n",
      "5       3\n",
      "9       1\n",
      "Name: hand, dtype: int64\n",
      "             precision    recall  f1-score   support\n",
      "\n",
      "          0       0.71      0.82      0.76      1220\n",
      "          1       0.66      0.58      0.62      1088\n",
      "          2       0.35      0.20      0.25       126\n",
      "          3       0.45      0.25      0.33        55\n",
      "          4       0.20      0.17      0.18         6\n",
      "          5       0.00      0.00      0.00         6\n",
      "          6       0.00      0.00      0.00         0\n",
      "          9       0.00      0.00      0.00         0\n",
      "\n",
      "avg / total       0.66      0.67      0.66      2501\n",
      "\n"
     ]
    }
   ],
   "source": [
    "pipePredicted = clf.predict(xVal)\n",
    "\n",
    "pdPipePredicted = pd.DataFrame(data=pipePredicted, columns=['hand'])\n",
    "print pdPipePredicted.hand.value_counts()\n",
    "\n",
    "print metrics.classification_report(yVal, pdPipePredicted)"
   ]
  },
  {
   "cell_type": "code",
   "execution_count": 215,
   "metadata": {},
   "outputs": [
    {
     "name": "stdout",
     "output_type": "stream",
     "text": [
      "[[1006  208    3    0    1    2    0    0]\n",
      " [ 399  632   38   13    2    1    2    1]\n",
      " [  10   85   25    4    1    0    1    0]\n",
      " [   2   33    5   14    0    0    1    0]\n",
      " [   1    3    1    0    1    0    0    0]\n",
      " [   5    1    0    0    0    0    0    0]\n",
      " [   0    0    0    0    0    0    0    0]\n",
      " [   0    0    0    0    0    0    0    0]]\n"
     ]
    }
   ],
   "source": [
    "# Printout the confusion matrix\n",
    "print confusion_matrix(yVal, pdPipePredicted)"
   ]
  },
  {
   "cell_type": "code",
   "execution_count": 218,
   "metadata": {},
   "outputs": [],
   "source": [
    "# Here on is submission generation, only run if needed (don't run over this point, if on .py file delete this)\n",
    "\n",
    "testSet  = pd.read_csv('test.csv')\n",
    "testEncoded = pd.get_dummies(testSet)\n",
    "testX = testEncoded.drop(['id'], axis=1)\n",
    "testX = chi2.transform(testX);"
   ]
  },
  {
   "cell_type": "code",
   "execution_count": 219,
   "metadata": {},
   "outputs": [],
   "source": [
    "resultDataRF = clf.predict(testX)"
   ]
  },
  {
   "cell_type": "code",
   "execution_count": 220,
   "metadata": {},
   "outputs": [
    {
     "name": "stdout",
     "output_type": "stream",
     "text": [
      "0    574349\n",
      "1    379248\n",
      "2     29148\n",
      "3     11163\n",
      "4      3251\n",
      "6      1213\n",
      "5      1000\n",
      "9       273\n",
      "8       182\n",
      "7       173\n",
      "Name: hand, dtype: int64\n"
     ]
    }
   ],
   "source": [
    "pdResultDataRF = pd.DataFrame(data=resultDataRF, columns=['hand'])\n",
    "pdResultDataRF.index += 1\n",
    "print pdResultDataRF.hand.value_counts()\n",
    "pdResultDataRF.to_csv(\"submission.csv\", index_label='id', columns=['hand'])"
   ]
  },
  {
   "cell_type": "code",
   "execution_count": null,
   "metadata": {},
   "outputs": [],
   "source": []
  }
 ],
 "metadata": {
  "kernelspec": {
   "display_name": "Python 2",
   "language": "python",
   "name": "python2"
  },
  "language_info": {
   "codemirror_mode": {
    "name": "ipython",
    "version": 2
   },
   "file_extension": ".py",
   "mimetype": "text/x-python",
   "name": "python",
   "nbconvert_exporter": "python",
   "pygments_lexer": "ipython2",
   "version": "2.7.10"
  }
 },
 "nbformat": 4,
 "nbformat_minor": 2
}
